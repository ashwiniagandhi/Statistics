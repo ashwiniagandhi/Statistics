{
 "cells": [
  {
   "cell_type": "code",
   "execution_count": null,
   "metadata": {},
   "outputs": [],
   "source": [
    "What are Eigen values and Eigen vectors for this matrix [-6,3][4, 5].. \\\n",
    "=> eigen value -7 6                                    \n",
    "eigen vector=[1][4]"
   ]
  },
  {
   "cell_type": "code",
   "execution_count": null,
   "metadata": {},
   "outputs": [],
   "source": [
    " How can we prove that AV = λV (A is a matrix and λ is eigen value and V is eigen\n",
    "vector)"
   ]
  },
  {
   "cell_type": "code",
   "execution_count": null,
   "metadata": {},
   "outputs": [],
   "source": [
    " By seeing this plot between height and weight which angle has maximum possible\n",
    "variance of data?\n",
    " =>~ 90 degree"
   ]
  },
  {
   "cell_type": "code",
   "execution_count": null,
   "metadata": {},
   "outputs": [],
   "source": [
    " How first principle component axis is selected in PCA\n",
    "=> After scaling unit"
   ]
  },
  {
   "cell_type": "code",
   "execution_count": null,
   "metadata": {},
   "outputs": [],
   "source": [
    "Given matrix [A] and has an eigenvalue of 4 with the corresponding eigenvectors as\n",
    "[x]\n",
    "=>A\n",
    "[-18]\n",
    "[-16]\n",
    "[4]"
   ]
  },
  {
   "cell_type": "code",
   "execution_count": null,
   "metadata": {},
   "outputs": [],
   "source": [
    "Two coins are tossed, find the probability that two heads are obtained. Note: Each\n",
    "coin has two possible outcomes H (heads) and T (Tails).\n",
    "=>1/4"
   ]
  },
  {
   "cell_type": "code",
   "execution_count": null,
   "metadata": {},
   "outputs": [],
   "source": [
    "Which of these numbers cannot be a probability?\n",
    "=>a) -0.00001\n"
   ]
  },
  {
   "cell_type": "code",
   "execution_count": null,
   "metadata": {},
   "outputs": [],
   "source": [
    "A die is rolled and a coin is tossed, find the probability that the die shows an odd\n",
    "number and the coin shows a head\n",
    "=>1/4"
   ]
  },
  {
   "cell_type": "code",
   "execution_count": null,
   "metadata": {},
   "outputs": [],
   "source": []
  }
 ],
 "metadata": {
  "kernelspec": {
   "display_name": "Python 3",
   "language": "python",
   "name": "python3"
  },
  "language_info": {
   "codemirror_mode": {
    "name": "ipython",
    "version": 3
   },
   "file_extension": ".py",
   "mimetype": "text/x-python",
   "name": "python",
   "nbconvert_exporter": "python",
   "pygments_lexer": "ipython3",
   "version": "3.7.3"
  }
 },
 "nbformat": 4,
 "nbformat_minor": 2
}
